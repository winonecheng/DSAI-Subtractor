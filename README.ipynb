{
 "cells": [
  {
   "cell_type": "markdown",
   "metadata": {},
   "source": [
    "# DASI HW3-Subtractor\n",
    "[Intro](https://paper.dropbox.com/doc/DASI-HW3-Subtractor-nXPC5ipREgBy1Nw8ilh1b)"
   ]
  },
  {
   "cell_type": "markdown",
   "metadata": {},
   "source": [
    "## Idea\n",
    "Remix adder and subtractor"
   ]
  },
  {
   "cell_type": "markdown",
   "metadata": {},
   "source": [
    "## Implemt"
   ]
  },
  {
   "cell_type": "markdown",
   "metadata": {},
   "source": [
    "```\n",
    "$ python3 --train 40000 --digits 3 --layers 1\n",
    "```"
   ]
  },
  {
   "cell_type": "markdown",
   "metadata": {},
   "source": [
    "## Visualization"
   ]
  },
  {
   "cell_type": "markdown",
   "metadata": {},
   "source": [
    "- training size: 18000, validation size: 2000\n",
    "    - testing accuracy: 0.67\n",
    "![](./fig_18000_2000.png)\n",
    "\n",
    "- training size: 36000, validation size: 4000\n",
    "    - testing accuracy: 0.72\n",
    "![](./fig_36000_4000.png)\n",
    "    \n",
    "- training size: 54000, validation size: 6000\n",
    "    - testing accuracy: 0.99\n",
    "![](./fig_54000_6000.png)"
   ]
  }
 ],
 "metadata": {
  "kernelspec": {
   "display_name": "venv",
   "language": "python",
   "name": "venv"
  },
  "language_info": {
   "codemirror_mode": {
    "name": "ipython",
    "version": 3
   },
   "file_extension": ".py",
   "mimetype": "text/x-python",
   "name": "python",
   "nbconvert_exporter": "python",
   "pygments_lexer": "ipython3",
   "version": "3.6.3"
  }
 },
 "nbformat": 4,
 "nbformat_minor": 2
}
