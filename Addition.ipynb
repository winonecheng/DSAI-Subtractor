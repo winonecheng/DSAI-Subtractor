{
 "cells": [
  {
   "cell_type": "code",
   "execution_count": 1,
   "metadata": {},
   "outputs": [
    {
     "name": "stderr",
     "output_type": "stream",
     "text": [
      "Using TensorFlow backend.\n"
     ]
    }
   ],
   "source": [
    "from keras.models import Sequential\n",
    "from keras import layers\n",
    "import numpy as np\n",
    "import pandas as pd\n",
    "from six.moves import range"
   ]
  },
  {
   "cell_type": "markdown",
   "metadata": {},
   "source": [
    "# Parameters Config"
   ]
  },
  {
   "cell_type": "code",
   "execution_count": 2,
   "metadata": {},
   "outputs": [],
   "source": [
    "class colors:\n",
    "    ok = '\\033[92m'\n",
    "    fail = '\\033[91m'\n",
    "    close = '\\033[0m'"
   ]
  },
  {
   "cell_type": "code",
   "execution_count": 3,
   "metadata": {},
   "outputs": [],
   "source": [
    "TRAINING_SIZE = 70000\n",
    "DIGITS = 3\n",
    "ADD_SUB_MIX = True\n",
    "MAXLEN = DIGITS + 1 + DIGITS\n",
    "RNN = layers.LSTM\n",
    "HIDDEN_SIZE = 128\n",
    "BATCH_SIZE = 128\n",
    "LAYERS = 1\n",
    "chars = '0123456789+- ' if ADD_SUB_MIX else '0123456789+'\n",
    "op_option = list('+-' if ADD_SUB_MIX else '+')"
   ]
  },
  {
   "cell_type": "code",
   "execution_count": 4,
   "metadata": {},
   "outputs": [],
   "source": [
    "class CharacterTable(object):\n",
    "    def __init__(self, chars):\n",
    "        self.chars = sorted(set(chars))\n",
    "        self.char_indices = dict((c, i) for i, c in enumerate(self.chars))\n",
    "        self.indices_char = dict((i, c) for i, c in enumerate(self.chars))\n",
    "    \n",
    "    def encode(self, C, num_rows):\n",
    "        x = np.zeros((num_rows, len(self.chars)))\n",
    "        for i, c in enumerate(C):\n",
    "            x[i, self.char_indices[c]] = 1\n",
    "        return x\n",
    "    \n",
    "    def decode(self, x, calc_argmax=True):\n",
    "        if calc_argmax:\n",
    "            x = x.argmax(axis=-1)\n",
    "        return \"\".join(self.indices_char[i] for i in x)"
   ]
  },
  {
   "cell_type": "code",
   "execution_count": 5,
   "metadata": {},
   "outputs": [],
   "source": [
    "ctable = CharacterTable(chars)"
   ]
  },
  {
   "cell_type": "code",
   "execution_count": 6,
   "metadata": {},
   "outputs": [
    {
     "data": {
      "text/plain": [
       "{0: ' ',\n",
       " 1: '+',\n",
       " 2: '-',\n",
       " 3: '0',\n",
       " 4: '1',\n",
       " 5: '2',\n",
       " 6: '3',\n",
       " 7: '4',\n",
       " 8: '5',\n",
       " 9: '6',\n",
       " 10: '7',\n",
       " 11: '8',\n",
       " 12: '9'}"
      ]
     },
     "execution_count": 6,
     "metadata": {},
     "output_type": "execute_result"
    }
   ],
   "source": [
    "ctable.indices_char"
   ]
  },
  {
   "cell_type": "markdown",
   "metadata": {},
   "source": [
    "# Data Generation"
   ]
  },
  {
   "cell_type": "code",
   "execution_count": 7,
   "metadata": {},
   "outputs": [
    {
     "name": "stdout",
     "output_type": "stream",
     "text": [
      "Generating data...\n",
      "Total addition questions: 70000\n"
     ]
    }
   ],
   "source": [
    "questions = []\n",
    "expected = []\n",
    "seen = set()\n",
    "print('Generating data...')\n",
    "while len(questions) < TRAINING_SIZE:\n",
    "    f = lambda: int(''.join(np.random.choice(list('0123456789')) for _ in range(DIGITS)))\n",
    "    a, b, op = f(), f(), np.random.choice(op_option)\n",
    "    key = a, b, op\n",
    "    if key in seen or a < 10**(DIGITS-1) or b < 10**(DIGITS-1):\n",
    "        continue\n",
    "    seen.add(key)\n",
    "    q = '{}{}{}'.format(a, op, b)\n",
    "    query = q + ' ' * (MAXLEN - len(q))\n",
    "    ans = str(a+b if op == '+' else a-b)\n",
    "    ans += ' ' * (DIGITS + 1 - len(ans))\n",
    "    questions.append(query)\n",
    "    expected.append(ans)\n",
    "print('Total addition questions:', len(questions))"
   ]
  },
  {
   "cell_type": "code",
   "execution_count": 8,
   "metadata": {},
   "outputs": [
    {
     "name": "stdout",
     "output_type": "stream",
     "text": [
      "['929+823', '306-914', '318-311', '472+369', '553-667', '465-737', '937-499', '226+561', '829-276', '168+232'] ['1752', '-608', '7   ', '841 ', '-114', '-272', '438 ', '787 ', '553 ', '400 ']\n"
     ]
    }
   ],
   "source": [
    "print(questions[:10], expected[:10])"
   ]
  },
  {
   "cell_type": "markdown",
   "metadata": {},
   "source": [
    "# Processing"
   ]
  },
  {
   "cell_type": "code",
   "execution_count": 9,
   "metadata": {},
   "outputs": [
    {
     "name": "stdout",
     "output_type": "stream",
     "text": [
      "Vectorization...\n"
     ]
    }
   ],
   "source": [
    "print('Vectorization...')\n",
    "x = np.zeros((len(questions), MAXLEN, len(chars)), dtype=np.bool)\n",
    "y = np.zeros((len(expected), DIGITS + 1, len(chars)), dtype=np.bool)\n",
    "for i, sentence in enumerate(questions):\n",
    "    x[i] = ctable.encode(sentence, MAXLEN)\n",
    "for i, sentence in enumerate(expected):\n",
    "    y[i] = ctable.encode(sentence, DIGITS + 1)"
   ]
  },
  {
   "cell_type": "code",
   "execution_count": 10,
   "metadata": {},
   "outputs": [
    {
     "name": "stdout",
     "output_type": "stream",
     "text": [
      "Training Data:\n",
      "(54000, 7, 13)\n",
      "(54000, 4, 13)\n",
      "Validation Data:\n",
      "(6000, 7, 13)\n",
      "(6000, 4, 13)\n",
      "Testing Data:\n",
      "(10000, 7, 13)\n",
      "(10000, 4, 13)\n"
     ]
    }
   ],
   "source": [
    "indices = np.arange(len(y))\n",
    "np.random.shuffle(indices)\n",
    "x = x[indices]\n",
    "y = y[indices]\n",
    "\n",
    "# train_test_split\n",
    "split_at = len(x) - 10000\n",
    "train_x, test_x = x[:split_at], x[split_at:]\n",
    "train_y, test_y = y[:split_at], y[split_at:]\n",
    "\n",
    "split_at = len(train_x) - len(train_x) // 10\n",
    "(x_train, x_val) = train_x[:split_at], train_x[split_at:]\n",
    "(y_train, y_val) = train_y[:split_at], train_y[split_at:]\n",
    "\n",
    "print('Training Data:')\n",
    "print(x_train.shape)\n",
    "print(y_train.shape)\n",
    "\n",
    "print('Validation Data:')\n",
    "print(x_val.shape)\n",
    "print(y_val.shape)\n",
    "\n",
    "print('Testing Data:')\n",
    "print(test_x.shape)\n",
    "print(test_y.shape)"
   ]
  },
  {
   "cell_type": "markdown",
   "metadata": {},
   "source": [
    "# Build Model"
   ]
  },
  {
   "cell_type": "code",
   "execution_count": 11,
   "metadata": {},
   "outputs": [
    {
     "name": "stdout",
     "output_type": "stream",
     "text": [
      "Build model...\n",
      "_________________________________________________________________\n",
      "Layer (type)                 Output Shape              Param #   \n",
      "=================================================================\n",
      "lstm_1 (LSTM)                (None, 128)               72704     \n",
      "_________________________________________________________________\n",
      "repeat_vector_1 (RepeatVecto (None, 4, 128)            0         \n",
      "_________________________________________________________________\n",
      "lstm_2 (LSTM)                (None, 4, 128)            131584    \n",
      "_________________________________________________________________\n",
      "time_distributed_1 (TimeDist (None, 4, 13)             1677      \n",
      "_________________________________________________________________\n",
      "activation_1 (Activation)    (None, 4, 13)             0         \n",
      "=================================================================\n",
      "Total params: 205,965\n",
      "Trainable params: 205,965\n",
      "Non-trainable params: 0\n",
      "_________________________________________________________________\n"
     ]
    }
   ],
   "source": [
    "print('Build model...')\n",
    "model = Sequential()\n",
    "model.add(RNN(HIDDEN_SIZE, input_shape=(MAXLEN, len(chars))))\n",
    "model.add(layers.RepeatVector(DIGITS + 1))\n",
    "for _ in range(LAYERS):\n",
    "    model.add(RNN(HIDDEN_SIZE, return_sequences=True))\n",
    "\n",
    "model.add(layers.TimeDistributed(layers.Dense(len(chars))))\n",
    "model.add(layers.Activation('softmax'))\n",
    "model.compile(loss='categorical_crossentropy',\n",
    "              optimizer='adam',\n",
    "              metrics=['accuracy'])\n",
    "model.summary()"
   ]
  },
  {
   "cell_type": "markdown",
   "metadata": {},
   "source": [
    "# Training"
   ]
  },
  {
   "cell_type": "code",
   "execution_count": null,
   "metadata": {
    "scrolled": true
   },
   "outputs": [
    {
     "name": "stdout",
     "output_type": "stream",
     "text": [
      "\n",
      "--------------------------------------------------\n",
      "Iteration 0\n",
      "Train on 54000 samples, validate on 6000 samples\n",
      "Epoch 1/1\n",
      "54000/54000 [==============================] - 11s 195us/step - loss: 1.9607 - acc: 0.3140 - val_loss: 1.7430 - val_acc: 0.3673\n",
      "MSG : Accuracy is 0.0022\n",
      "\n",
      "--------------------------------------------------\n",
      "Iteration 1\n",
      "Train on 54000 samples, validate on 6000 samples\n",
      "Epoch 1/1\n",
      "54000/54000 [==============================] - 9s 174us/step - loss: 1.6441 - acc: 0.3982 - val_loss: 1.5276 - val_acc: 0.4506\n",
      "MSG : Accuracy is 0.0045\n",
      "\n",
      "--------------------------------------------------\n",
      "Iteration 2\n",
      "Train on 54000 samples, validate on 6000 samples\n",
      "Epoch 1/1\n",
      "54000/54000 [==============================] - 9s 175us/step - loss: 1.4858 - acc: 0.4588 - val_loss: 1.4300 - val_acc: 0.4875\n",
      "MSG : Accuracy is 0.0071\n",
      "\n",
      "--------------------------------------------------\n",
      "Iteration 3\n",
      "Train on 54000 samples, validate on 6000 samples\n",
      "Epoch 1/1\n",
      "54000/54000 [==============================] - 9s 175us/step - loss: 1.4036 - acc: 0.4832 - val_loss: 1.3786 - val_acc: 0.4933\n",
      "MSG : Accuracy is 0.0055\n",
      "\n",
      "--------------------------------------------------\n",
      "Iteration 4\n",
      "Train on 54000 samples, validate on 6000 samples\n",
      "Epoch 1/1\n",
      "54000/54000 [==============================] - 9s 175us/step - loss: 1.3588 - acc: 0.4942 - val_loss: 1.3208 - val_acc: 0.5045\n",
      "MSG : Accuracy is 0.009\n",
      "\n",
      "--------------------------------------------------\n",
      "Iteration 5\n",
      "Train on 54000 samples, validate on 6000 samples\n",
      "Epoch 1/1\n",
      "54000/54000 [==============================] - 9s 175us/step - loss: 1.3223 - acc: 0.5047 - val_loss: 1.3135 - val_acc: 0.4978\n",
      "MSG : Accuracy is 0.0082\n",
      "\n",
      "--------------------------------------------------\n",
      "Iteration 6\n",
      "Train on 54000 samples, validate on 6000 samples\n",
      "Epoch 1/1\n",
      "54000/54000 [==============================] - 9s 175us/step - loss: 1.3010 - acc: 0.5106 - val_loss: 1.2685 - val_acc: 0.5198\n",
      "MSG : Accuracy is 0.0113\n",
      "\n",
      "--------------------------------------------------\n",
      "Iteration 7\n",
      "Train on 54000 samples, validate on 6000 samples\n",
      "Epoch 1/1\n",
      "54000/54000 [==============================] - 10s 179us/step - loss: 1.2738 - acc: 0.5201 - val_loss: 1.2648 - val_acc: 0.5274\n",
      "MSG : Accuracy is 0.0135\n",
      "\n",
      "--------------------------------------------------\n",
      "Iteration 8\n",
      "Train on 54000 samples, validate on 6000 samples\n",
      "Epoch 1/1\n",
      "54000/54000 [==============================] - 10s 176us/step - loss: 1.2565 - acc: 0.5279 - val_loss: 1.2291 - val_acc: 0.5387\n",
      "MSG : Accuracy is 0.0145\n",
      "\n",
      "--------------------------------------------------\n",
      "Iteration 9\n",
      "Train on 54000 samples, validate on 6000 samples\n",
      "Epoch 1/1\n",
      "54000/54000 [==============================] - 9s 176us/step - loss: 1.2304 - acc: 0.5383 - val_loss: 1.2178 - val_acc: 0.5456\n",
      "MSG : Accuracy is 0.0153\n",
      "\n",
      "--------------------------------------------------\n",
      "Iteration 10\n",
      "Train on 54000 samples, validate on 6000 samples\n",
      "Epoch 1/1\n",
      "54000/54000 [==============================] - 9s 175us/step - loss: 1.2192 - acc: 0.5423 - val_loss: 1.2055 - val_acc: 0.5417\n",
      "MSG : Accuracy is 0.0155\n",
      "\n",
      "--------------------------------------------------\n",
      "Iteration 11\n",
      "Train on 54000 samples, validate on 6000 samples\n",
      "Epoch 1/1\n",
      "54000/54000 [==============================] - 9s 175us/step - loss: 1.1955 - acc: 0.5512 - val_loss: 1.2033 - val_acc: 0.5442\n",
      "MSG : Accuracy is 0.0134\n",
      "\n",
      "--------------------------------------------------\n",
      "Iteration 12\n",
      "Train on 54000 samples, validate on 6000 samples\n",
      "Epoch 1/1\n",
      "54000/54000 [==============================] - 9s 175us/step - loss: 1.1784 - acc: 0.5562 - val_loss: 1.2102 - val_acc: 0.5358\n",
      "MSG : Accuracy is 0.0172\n",
      "\n",
      "--------------------------------------------------\n",
      "Iteration 13\n",
      "Train on 54000 samples, validate on 6000 samples\n",
      "Epoch 1/1\n",
      "54000/54000 [==============================] - 9s 174us/step - loss: 1.1678 - acc: 0.5597 - val_loss: 1.1613 - val_acc: 0.5610\n",
      "MSG : Accuracy is 0.0212\n",
      "\n",
      "--------------------------------------------------\n",
      "Iteration 14\n",
      "Train on 54000 samples, validate on 6000 samples\n",
      "Epoch 1/1\n",
      "54000/54000 [==============================] - 9s 173us/step - loss: 1.1457 - acc: 0.5674 - val_loss: 1.1360 - val_acc: 0.5720\n",
      "MSG : Accuracy is 0.0266\n",
      "\n",
      "--------------------------------------------------\n",
      "Iteration 15\n",
      "Train on 54000 samples, validate on 6000 samples\n",
      "Epoch 1/1\n",
      "54000/54000 [==============================] - 9s 175us/step - loss: 1.1409 - acc: 0.5685 - val_loss: 1.1531 - val_acc: 0.5603\n",
      "MSG : Accuracy is 0.0218\n",
      "\n",
      "--------------------------------------------------\n",
      "Iteration 16\n",
      "Train on 54000 samples, validate on 6000 samples\n",
      "Epoch 1/1\n",
      "54000/54000 [==============================] - 9s 174us/step - loss: 1.1095 - acc: 0.5815 - val_loss: 1.1422 - val_acc: 0.5642\n",
      "MSG : Accuracy is 0.0219\n",
      "\n",
      "--------------------------------------------------\n",
      "Iteration 17\n",
      "Train on 54000 samples, validate on 6000 samples\n",
      "Epoch 1/1\n",
      "54000/54000 [==============================] - 9s 176us/step - loss: 1.1008 - acc: 0.5835 - val_loss: 1.1066 - val_acc: 0.5779\n",
      "MSG : Accuracy is 0.0246\n",
      "\n",
      "--------------------------------------------------\n",
      "Iteration 18\n",
      "Train on 54000 samples, validate on 6000 samples\n",
      "Epoch 1/1\n",
      "54000/54000 [==============================] - 9s 175us/step - loss: 1.0864 - acc: 0.5881 - val_loss: 1.0728 - val_acc: 0.5924\n",
      "MSG : Accuracy is 0.0411\n",
      "\n",
      "--------------------------------------------------\n",
      "Iteration 19\n",
      "Train on 54000 samples, validate on 6000 samples\n",
      "Epoch 1/1\n",
      "54000/54000 [==============================] - 10s 176us/step - loss: 1.0746 - acc: 0.5923 - val_loss: 1.0559 - val_acc: 0.6011\n",
      "MSG : Accuracy is 0.0433\n",
      "\n",
      "--------------------------------------------------\n",
      "Iteration 20\n",
      "Train on 54000 samples, validate on 6000 samples\n",
      "Epoch 1/1\n",
      "54000/54000 [==============================] - 9s 174us/step - loss: 1.0601 - acc: 0.5972 - val_loss: 1.0467 - val_acc: 0.5992\n",
      "MSG : Accuracy is 0.0398\n",
      "\n",
      "--------------------------------------------------\n",
      "Iteration 21\n",
      "Train on 54000 samples, validate on 6000 samples\n",
      "Epoch 1/1\n",
      "54000/54000 [==============================] - 10s 177us/step - loss: 1.0416 - acc: 0.6041 - val_loss: 1.0241 - val_acc: 0.6111\n",
      "MSG : Accuracy is 0.0461\n",
      "\n",
      "--------------------------------------------------\n",
      "Iteration 22\n",
      "Train on 54000 samples, validate on 6000 samples\n",
      "Epoch 1/1\n",
      "54000/54000 [==============================] - 9s 175us/step - loss: 1.0265 - acc: 0.6090 - val_loss: 1.0252 - val_acc: 0.6026\n",
      "MSG : Accuracy is 0.0476\n",
      "\n",
      "--------------------------------------------------\n",
      "Iteration 23\n",
      "Train on 54000 samples, validate on 6000 samples\n",
      "Epoch 1/1\n",
      "54000/54000 [==============================] - 10s 176us/step - loss: 1.0054 - acc: 0.6161 - val_loss: 0.9997 - val_acc: 0.6170\n",
      "MSG : Accuracy is 0.0537\n",
      "\n",
      "--------------------------------------------------\n",
      "Iteration 24\n",
      "Train on 54000 samples, validate on 6000 samples\n",
      "Epoch 1/1\n",
      "54000/54000 [==============================] - 9s 175us/step - loss: 0.9854 - acc: 0.6220 - val_loss: 0.9832 - val_acc: 0.6211\n",
      "MSG : Accuracy is 0.0595\n",
      "\n",
      "--------------------------------------------------\n",
      "Iteration 25\n",
      "Train on 54000 samples, validate on 6000 samples\n",
      "Epoch 1/1\n",
      "54000/54000 [==============================] - 9s 174us/step - loss: 0.9663 - acc: 0.6295 - val_loss: 0.9481 - val_acc: 0.6370\n",
      "MSG : Accuracy is 0.0709\n",
      "\n",
      "--------------------------------------------------\n",
      "Iteration 26\n",
      "Train on 54000 samples, validate on 6000 samples\n",
      "Epoch 1/1\n",
      "54000/54000 [==============================] - 10s 177us/step - loss: 0.9448 - acc: 0.6361 - val_loss: 0.9311 - val_acc: 0.6418\n",
      "MSG : Accuracy is 0.0786\n",
      "\n",
      "--------------------------------------------------\n",
      "Iteration 27\n",
      "Train on 54000 samples, validate on 6000 samples\n",
      "Epoch 1/1\n",
      "54000/54000 [==============================] - 10s 176us/step - loss: 0.9181 - acc: 0.6480 - val_loss: 0.9070 - val_acc: 0.6507\n",
      "MSG : Accuracy is 0.0962\n",
      "\n",
      "--------------------------------------------------\n",
      "Iteration 28\n",
      "Train on 54000 samples, validate on 6000 samples\n",
      "Epoch 1/1\n",
      "54000/54000 [==============================] - 9s 173us/step - loss: 0.8935 - acc: 0.6578 - val_loss: 0.8946 - val_acc: 0.6536\n",
      "MSG : Accuracy is 0.1084\n",
      "\n",
      "--------------------------------------------------\n",
      "Iteration 29\n",
      "Train on 54000 samples, validate on 6000 samples\n",
      "Epoch 1/1\n"
     ]
    },
    {
     "name": "stdout",
     "output_type": "stream",
     "text": [
      "54000/54000 [==============================] - 10s 176us/step - loss: 0.8667 - acc: 0.6675 - val_loss: 0.8781 - val_acc: 0.6550\n",
      "MSG : Accuracy is 0.1123\n",
      "\n",
      "--------------------------------------------------\n",
      "Iteration 30\n",
      "Train on 54000 samples, validate on 6000 samples\n",
      "Epoch 1/1\n",
      "54000/54000 [==============================] - 9s 173us/step - loss: 0.8301 - acc: 0.6809 - val_loss: 0.9208 - val_acc: 0.6361\n",
      "MSG : Accuracy is 0.0963\n",
      "\n",
      "--------------------------------------------------\n",
      "Iteration 31\n",
      "Train on 54000 samples, validate on 6000 samples\n",
      "Epoch 1/1\n",
      "54000/54000 [==============================] - 9s 174us/step - loss: 0.7889 - acc: 0.6954 - val_loss: 0.7813 - val_acc: 0.6940\n",
      "MSG : Accuracy is 0.1714\n",
      "\n",
      "--------------------------------------------------\n",
      "Iteration 32\n",
      "Train on 54000 samples, validate on 6000 samples\n",
      "Epoch 1/1\n",
      "54000/54000 [==============================] - 9s 175us/step - loss: 0.7372 - acc: 0.7176 - val_loss: 0.7277 - val_acc: 0.7207\n",
      "MSG : Accuracy is 0.2081\n",
      "\n",
      "--------------------------------------------------\n",
      "Iteration 33\n",
      "Train on 54000 samples, validate on 6000 samples\n",
      "Epoch 1/1\n",
      "54000/54000 [==============================] - 9s 174us/step - loss: 0.6880 - acc: 0.7402 - val_loss: 0.6665 - val_acc: 0.7460\n",
      "MSG : Accuracy is 0.2751\n",
      "\n",
      "--------------------------------------------------\n",
      "Iteration 34\n",
      "Train on 54000 samples, validate on 6000 samples\n",
      "Epoch 1/1\n",
      "54000/54000 [==============================] - 9s 174us/step - loss: 0.6457 - acc: 0.7572 - val_loss: 0.6044 - val_acc: 0.7727\n",
      "MSG : Accuracy is 0.3265\n",
      "\n",
      "--------------------------------------------------\n",
      "Iteration 35\n",
      "Train on 54000 samples, validate on 6000 samples\n",
      "Epoch 1/1\n",
      "54000/54000 [==============================] - 10s 177us/step - loss: 0.5757 - acc: 0.7881 - val_loss: 0.5762 - val_acc: 0.7838\n",
      "MSG : Accuracy is 0.34\n",
      "\n",
      "--------------------------------------------------\n",
      "Iteration 36\n",
      "Train on 54000 samples, validate on 6000 samples\n",
      "Epoch 1/1\n",
      "54000/54000 [==============================] - 10s 176us/step - loss: 0.5350 - acc: 0.8020 - val_loss: 0.5030 - val_acc: 0.8184\n",
      "MSG : Accuracy is 0.4284\n",
      "\n",
      "--------------------------------------------------\n",
      "Iteration 37\n",
      "Train on 54000 samples, validate on 6000 samples\n",
      "Epoch 1/1\n",
      "54000/54000 [==============================] - 9s 175us/step - loss: 0.4751 - acc: 0.8318 - val_loss: 0.4474 - val_acc: 0.8464\n",
      "MSG : Accuracy is 0.504\n",
      "\n",
      "--------------------------------------------------\n",
      "Iteration 38\n",
      "Train on 54000 samples, validate on 6000 samples\n",
      "Epoch 1/1\n",
      " 9984/54000 [====>.........................] - ETA: 7s - loss: 0.4431 - acc: 0.8462"
     ]
    }
   ],
   "source": [
    "accuracy = list()\n",
    "history = list()\n",
    "\n",
    "for iteration in range(100):\n",
    "    print()\n",
    "    print('-' * 50)\n",
    "    print('Iteration', iteration)\n",
    "    history.append(model.fit(x_train, y_train,\n",
    "                            batch_size=BATCH_SIZE,\n",
    "                            epochs=1,\n",
    "                            validation_data=(x_val, y_val)))\n",
    "    \n",
    "    \n",
    "    right = 0\n",
    "    preds = model.predict_classes(test_x, verbose=0)\n",
    "    for i in range(len(preds)):\n",
    "        q = ctable.decode(test_x[i])\n",
    "        correct = ctable.decode(test_y[i])\n",
    "        guess = ctable.decode(preds[i], calc_argmax=False)\n",
    "        #print('Q', q[::-1] if REVERSE else q, end=' ')\n",
    "        #print('T', correct, end=' ')\n",
    "        if correct == guess:\n",
    "            #print(colors.ok + '☑' + colors.close, end=' ')\n",
    "            right += 1\n",
    "        else:\n",
    "            pass\n",
    "            #print(colors.fail + '☒' + colors.close, end=' ')\n",
    "            #print(guess)\n",
    "    \n",
    "    accuracy.append(right / len(preds))\n",
    "    print(\"MSG : Accuracy is {}\".format(right / len(preds)))"
   ]
  },
  {
   "cell_type": "markdown",
   "metadata": {},
   "source": [
    "# Output"
   ]
  },
  {
   "cell_type": "code",
   "execution_count": null,
   "metadata": {},
   "outputs": [],
   "source": [
    "print('Output...')\n",
    "df = pd.DataFrame([[hist.history['acc'][0], hist.history['val_acc'][0]] for hist in history], columns=['acc', 'val_acc'])\n",
    "df.insert(2, 'test_acc', accuracy)\n",
    "df.to_csv('output_{}_{}.csv'.format(x_train.shape[0], x_val.shape[0]), index=False)"
   ]
  }
 ],
 "metadata": {
  "kernelspec": {
   "display_name": "Python 3",
   "language": "python",
   "name": "python3"
  },
  "language_info": {
   "codemirror_mode": {
    "name": "ipython",
    "version": 3
   },
   "file_extension": ".py",
   "mimetype": "text/x-python",
   "name": "python",
   "nbconvert_exporter": "python",
   "pygments_lexer": "ipython3",
   "version": "3.4.3"
  }
 },
 "nbformat": 4,
 "nbformat_minor": 2
}
